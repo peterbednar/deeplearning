{
 "cells": [
  {
   "cell_type": "markdown",
   "metadata": {},
   "source": [
    "### Zadanie 5\n",
    "\n",
    "1. Načítajte z knižnice `keras` dátovú množinu `reuters`, ktorá obsahuje texty novinových správ klasifikovaných do 46 kategórií.\n",
    "2. Vhodne predspracujte dáta. Použite vektorovú reprezentáciu slov o veľkosti 128.\n",
    "3. Navrhnite a naučte vhodnú architektúru s LSTM vrstvami. Pri učení zobrazte priebeh presnosti na trénovacích a testovacích dátach.\n",
    "4. Otestujte výslednú naučenú sieť na testovacej množine a vypočítajte výslednú presnosť."
   ]
  },
  {
   "cell_type": "code",
   "execution_count": null,
   "metadata": {},
   "outputs": [],
   "source": []
  }
 ],
 "metadata": {
  "kernelspec": {
   "display_name": "Python 3",
   "language": "python",
   "name": "python3"
  },
  "language_info": {
   "codemirror_mode": {
    "name": "ipython",
    "version": 3
   },
   "file_extension": ".py",
   "mimetype": "text/x-python",
   "name": "python",
   "nbconvert_exporter": "python",
   "pygments_lexer": "ipython3",
   "version": "3.7.0"
  }
 },
 "nbformat": 4,
 "nbformat_minor": 2
}
