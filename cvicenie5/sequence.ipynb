{
 "cells": [
  {
   "cell_type": "markdown",
   "metadata": {},
   "source": [
    "## Rekurentné neurónové siete\n",
    "\n",
    "Pre architektúry rekurentných sietí `keras` poskytuje základné typy ako napr. `LSTM` siete."
   ]
  },
  {
   "cell_type": "code",
   "execution_count": null,
   "metadata": {},
   "outputs": [],
   "source": [
    "import numpy as np\n",
    "import matplotlib.pyplot as plt\n",
    "np.random.seed(12345)\n",
    "\n",
    "from tensorflow.keras.models import Sequential\n",
    "from tensorflow.keras.layers import LSTM, Dense, Dropout\n",
    "from tensorflow.keras.layers import Embedding\n",
    "from tensorflow.keras.optimizers import Adam\n",
    "from tensorflow.keras.datasets import imdb\n",
    "from tensorflow.keras.preprocessing import sequence"
   ]
  },
  {
   "cell_type": "markdown",
   "metadata": {},
   "source": [
    "### Predspracovanie dát\n",
    "\n",
    "Dátová množina IMDB obsahuje texty hodnotení filmov, ktoré sú klasifikované podľa ich sentimentu na pozitívne a negatívne. Dáta obsahujú 25 000 príkladov pre trénovanie a 25 000 pre testovanie. Pri načítaní orežeme počet slov na 5 000 najfrekventovanejších slov (ostatné slová v texte budú označené ako neznáme)."
   ]
  },
  {
   "cell_type": "code",
   "execution_count": null,
   "metadata": {
    "scrolled": false
   },
   "outputs": [],
   "source": [
    "num_words = 5000\n",
    "(x_train, y_train), (x_test, y_test) = imdb.load_data(num_words=num_words)\n",
    "print(x_train.shape, x_test.shape)"
   ]
  },
  {
   "cell_type": "markdown",
   "metadata": {},
   "source": [
    "Dáta sú predspracované ako sekvencie indexov jednotlivých slov v texte. Indexy sú priradené podľa výskytu slov (tzn. index 1 označuje slovo, ktoré sa vyskytlo v textoch najčastejšie). Index 0 reprezentuje neznáme/orezané slová."
   ]
  },
  {
   "cell_type": "code",
   "execution_count": null,
   "metadata": {},
   "outputs": [],
   "source": [
    "print(x_train[0]) # vypíšeme si prvý trénovací príklad"
   ]
  },
  {
   "cell_type": "markdown",
   "metadata": {},
   "source": [
    "`keras` vyžaduje, aby boli sekvencie zarovnané na rovnakú dĺžku doplnením 0 indexov (tzv. *padding*). Pre zarovnanie môžete použiť pomocnú funkciu `sequence.pad_sequences`. Štandardne sa 0 hodnoty doplnania na začiatok sekvencie. Maximálnu dĺžku sekvencie nastavíme na 500."
   ]
  },
  {
   "cell_type": "code",
   "execution_count": null,
   "metadata": {},
   "outputs": [],
   "source": [
    "max_review_length = 500\n",
    "x_train = sequence.pad_sequences(x_train, maxlen=max_review_length) # zarovnáme trénovacie dáta\n",
    "x_test = sequence.pad_sequences(x_test, maxlen=max_review_length)   # zarovnáme testovacie dáta\n",
    "\n",
    "print(x_train[0])      # vypíšeme si zarovnaný prvý trénovací príklad\n",
    "print(len(x_train[0])) # veľkosť všetkých vektorov reprezentujúich sekvencie bude 500"
   ]
  },
  {
   "cell_type": "markdown",
   "metadata": {},
   "source": [
    "### Vytvorenie modelu"
   ]
  },
  {
   "cell_type": "code",
   "execution_count": null,
   "metadata": {},
   "outputs": [],
   "source": [
    "# každé slovo budeme reprezentovať ako vektor (tzv. embedding), veľkosť reprezentácie slov nastavíme na 32\n",
    "# tzn. každý vstupný príklad (text) bude reprezentovaný ako matica 500x32 (maximálna dĺžka sekvencie po zarovnaní x\n",
    "# veľkosť embedding vektorov)\n",
    "embedding_length = 32\n",
    "\n",
    "model = Sequential()\n",
    "# Embedding vrstva vytvorí prekladovú tabuľku medzi indexom slova a jeho vektorom. Na začiatku sú vektory\n",
    "# jednotlivých slov reprezentované náhodne, táto vrstva zmení vstupnú zarovnanú sekvenciu indexov slov na maticu\n",
    "# reprezentujúcu príklad pomocou embedding vektorov jednotlivých slov\n",
    "model.add(Embedding(num_words, embedding_length, input_length=max_review_length))\n",
    "# vytvoríme rekurentnú LSTM vrstvu (veľkosť stavu a pamäte je 100)\n",
    "model.add(LSTM(100))\n",
    "# výsledná klasifikácia je vypočítaná doprednou vrstvou, ktorá ma na vstupe posledný stav LSTM a na výstupe jeden\n",
    "# neurón so sigmoidálnou aktivačnou funkciou pre binárnu klasifikáciu\n",
    "model.add(Dense(1, activation='sigmoid'))"
   ]
  },
  {
   "cell_type": "markdown",
   "metadata": {},
   "source": [
    "### Trénovanie a validácia na testovacích dátach"
   ]
  },
  {
   "cell_type": "code",
   "execution_count": null,
   "metadata": {},
   "outputs": [],
   "source": [
    "# štandardné nastavenie optimalizačnej metódy pre binárnu klasifikáciu\n",
    "adam = Adam()\n",
    "model.compile(loss='binary_crossentropy', optimizer=adam, metrics=['accuracy'])"
   ]
  },
  {
   "cell_type": "code",
   "execution_count": null,
   "metadata": {},
   "outputs": [],
   "source": [
    "# naučíme model, ako validačnú množinu použijeme priamo testovacie dáta\n",
    "# (tzn. po validácii získame priamo výslednú presnosť modelu)\n",
    "f = model.fit(x_train, y_train, epochs=3, batch_size=128, validation_data=(x_test, y_test))"
   ]
  },
  {
   "cell_type": "code",
   "execution_count": null,
   "metadata": {},
   "outputs": [],
   "source": []
  }
 ],
 "metadata": {
  "kernelspec": {
   "display_name": "Python 3",
   "language": "python",
   "name": "python3"
  },
  "language_info": {
   "codemirror_mode": {
    "name": "ipython",
    "version": 3
   },
   "file_extension": ".py",
   "mimetype": "text/x-python",
   "name": "python",
   "nbconvert_exporter": "python",
   "pygments_lexer": "ipython3",
   "version": "3.7.3"
  }
 },
 "nbformat": 4,
 "nbformat_minor": 2
}
