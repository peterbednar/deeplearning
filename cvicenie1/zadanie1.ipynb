{
 "cells": [
  {
   "cell_type": "markdown",
   "metadata": {},
   "source": [
    "### Zadanie 1\n",
    "\n",
    "Na vstupe máte textový súbor, ktorý má na každom riadku dve slová oddelené medzerou.\n",
    "Vašou úlohou je:\n",
    "\n",
    "1. Načítať text po riadkoch a oddeliť jednotlivé slová.\n",
    "2. Rozdeliť slová na znaky a vytvoriť index znakov, tzn. mapu ktorá priradí každému znaku, ktorý sa vyskytoval v slovách index od 1 - `počet rôznych znakov`.\n",
    "4. Vytvoriť dva zoznamy, jeden pre všetky prvé slová a jeden pre všetky druhé slová na riadku, ktoré obsahujú zoznamy indexov znakov.\n",
    "\n",
    "Napr. ak je na vstupe text:\n",
    "\n",
    "```\n",
    "otcovi otec\n",
    "bratovi brat\n",
    "bratov brat\n",
    "```\n",
    "\n",
    "Ak je index `{'o': 1, 't': 2, 'c': 3, 'v': 4, 'i': 5, 'e': 6, 'b': 7, 'r': 8, 'a': 9}`, potom na výstupe bude:\n",
    "\n",
    "```\n",
    "first = [[1, 2, 3, 1, 4, 5], [7, 8, 9, 2, 1, 4, 5], [7, 8, 9, 2, 1, 4]]\n",
    "second = [[1, 2, 6, 3], [7, 8, 9, 2], [7, 8, 9, 2]]\n",
    "```"
   ]
  },
  {
   "cell_type": "code",
   "execution_count": null,
   "metadata": {},
   "outputs": [],
   "source": []
  }
 ],
 "metadata": {
  "kernelspec": {
   "display_name": "Python 3",
   "language": "python",
   "name": "python3"
  },
  "language_info": {
   "codemirror_mode": {
    "name": "ipython",
    "version": 3
   },
   "file_extension": ".py",
   "mimetype": "text/x-python",
   "name": "python",
   "nbconvert_exporter": "python",
   "pygments_lexer": "ipython3",
   "version": "3.7.0"
  }
 },
 "nbformat": 4,
 "nbformat_minor": 2
}
