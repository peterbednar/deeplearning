{
 "cells": [
  {
   "cell_type": "markdown",
   "metadata": {},
   "source": [
    "## Konvolučné neurónové siete\n",
    "\n",
    "`keras` poskytuje priamo vrstvy pre vytvorenie konvolučných sietí, ako napr. `Conv2D` pre dvojrozmernú konvolučnú vrstvu a `MaxPooling2D` pre _pooling_ s maximálnou agregačnou funkciou. "
   ]
  },
  {
   "cell_type": "code",
   "execution_count": null,
   "metadata": {},
   "outputs": [],
   "source": [
    "# naimportujeme si potrebné knižnice a typy\n",
    "import numpy as np\n",
    "import matplotlib.pyplot as plt\n",
    "np.random.seed(12345)\n",
    "\n",
    "from keras.models import Sequential\n",
    "from keras.layers import Conv2D, MaxPooling2D, Flatten, Dense, Dropout\n",
    "from keras.optimizers import Adam\n",
    "\n",
    "# `keras` poskytuje priamo viacero demonštračných dátových množín, MNIST je množina\n",
    "# obrázkov s ručne napísanými číslicami od 0 po 9\n",
    "from keras.datasets import mnist\n",
    "from keras.utils import np_utils, plot_model"
   ]
  },
  {
   "cell_type": "markdown",
   "metadata": {},
   "source": [
    "### Predspracovanie dát\n",
    "\n",
    "Pri predspracovaní načítame dáta do `numpy` polí a znormalizujeme ich hodnoty."
   ]
  },
  {
   "cell_type": "code",
   "execution_count": null,
   "metadata": {},
   "outputs": [],
   "source": [
    "# načítame trénovacie a testovacie dáta\n",
    "(x_train, y_train), (x_test, y_test) = mnist.load_data()\n",
    "# máme 60000 trénovacích čierno-bielych obrázkov s rozmerom 28x28 pixelov\n",
    "# a 10000 testovacích\n",
    "print(x_train.shape, x_test.shape)"
   ]
  },
  {
   "cell_type": "code",
   "execution_count": null,
   "metadata": {},
   "outputs": [],
   "source": [
    "# zobrazíme si prvý trénovací príklad ako obrázok\n",
    "plt.imshow(x_train[0], cmap='gray')"
   ]
  },
  {
   "cell_type": "code",
   "execution_count": null,
   "metadata": {},
   "outputs": [],
   "source": [
    "# dáta si musíme preusporiadať na tenzor s rozmermi\n",
    "# počet obrázkov x šírka x výška x počet farebných kanálov\n",
    "# keďže máme čiernobiele obrázky, máme iba jeden farebný kanál\n",
    "x_train = x_train.reshape(x_train.shape[0], 28, 28, 1)\n",
    "x_test = x_test.reshape(x_test.shape[0], 28, 28, 1)\n",
    "\n",
    "# pôvodné hodnoty sú celé čísla od 0 (čierna farba) po 255 (biela)\n",
    "# zmeníme typ na desatinné čísla a znormujeme dáta do intervalu 0-1\n",
    "x_train = x_train.astype('float32')\n",
    "x_test = x_test.astype('float32')\n",
    "x_train /= 255\n",
    "x_test /= 255"
   ]
  },
  {
   "cell_type": "code",
   "execution_count": null,
   "metadata": {},
   "outputs": [],
   "source": [
    "# cieľový kategorický atribút je potrebné zakódovať pre výstupnú vrstvu ako binárny vektor\n",
    "# pre binárne kódovanie môžete využiť pomocnú funkciu z knižnice `keras`\n",
    "y_train = np_utils.to_categorical(y_train, 10)\n",
    "y_test = np_utils.to_categorical(y_test, 10)"
   ]
  },
  {
   "cell_type": "markdown",
   "metadata": {},
   "source": [
    "### Vytvorenie modelu"
   ]
  },
  {
   "cell_type": "code",
   "execution_count": null,
   "metadata": {},
   "outputs": [],
   "source": [
    "# vytvoríme sekvenčný model\n",
    "model = Sequential()\n",
    "\n",
    "# 32 filtrov, veľkosť 3x3, vstupný obrázok 28x28 pixelov x1 farebný kanál\n",
    "model.add(Conv2D(32, kernel_size=(3,3), activation='relu', input_shape=(28,28,1)))\n",
    "# 32 filtrov, veľkosť 3x3\n",
    "model.add(Conv2D(32, kernel_size=(3,3), activation='relu'))\n",
    "# pooling, veľosť 2x2\n",
    "model.add(MaxPooling2D(pool_size=(2,2)))\n",
    "# dropout pre regularizáciu učenia\n",
    "model.add(Dropout(0.25))\n",
    "\n",
    "# Flatten transformuje vstup z dvojrozmernej mriežky na jednorozmerný vektor pre\n",
    "# doprednú sieť\n",
    "model.add(Flatten())\n",
    "# dopredná sieť s jednou skrytou vrstvou - 128 neurónov\n",
    "model.add(Dense(128, activation='relu'))\n",
    "model.add(Dropout(0.5))\n",
    "# výstupná vrstva pre 10 tried\n",
    "model.add(Dense(10, activation='softmax'))\n",
    "\n",
    "# zobrazíme si štruktúru modelu a počet parametrov na jednotlivých vrstvách,\n",
    "# všimnite si, že väčšina parametrov je na doprednej sieti\n",
    "model.summary()"
   ]
  },
  {
   "cell_type": "code",
   "execution_count": null,
   "metadata": {},
   "outputs": [],
   "source": [
    "# model si môžete zobraziť aj graficky\n",
    "# plot_model(model, to_file='convolution_model.png', show_shapes=True)"
   ]
  },
  {
   "cell_type": "markdown",
   "metadata": {},
   "source": [
    "### Učenie a vyhodnotenie presnosti"
   ]
  },
  {
   "cell_type": "code",
   "execution_count": null,
   "metadata": {},
   "outputs": [],
   "source": [
    "adam = Adam()\n",
    "# štandardná procedúra učenia pre klasifikáciu\n",
    "model.compile(loss='categorical_crossentropy', optimizer=adam, metrics=['accuracy'])"
   ]
  },
  {
   "cell_type": "code",
   "execution_count": null,
   "metadata": {},
   "outputs": [],
   "source": [
    "f = model.fit(x_train, y_train, epochs=3, batch_size=128, validation_data=(x_test, y_test))"
   ]
  },
  {
   "cell_type": "code",
   "execution_count": null,
   "metadata": {},
   "outputs": [],
   "source": [
    "# zobrazíme si prvý testovací príklad\n",
    "plt.imshow(x_test[0].reshape(28,28), cmap='gray')"
   ]
  },
  {
   "cell_type": "code",
   "execution_count": null,
   "metadata": {},
   "outputs": [],
   "source": [
    "predictions = model.predict(x_test[:1])\n",
    "# zobrazíme si predikciu pre jednotlivé triedy (číslice) pre prvý testovací príklad\n",
    "print(predictions[0])\n",
    "plt.bar(np.arange(10), predictions[0])\n",
    "plt.xticks(np.arange(10))"
   ]
  },
  {
   "cell_type": "code",
   "execution_count": null,
   "metadata": {},
   "outputs": [],
   "source": []
  }
 ],
 "metadata": {
  "kernelspec": {
   "display_name": "Python 3",
   "language": "python",
   "name": "python3"
  },
  "language_info": {
   "codemirror_mode": {
    "name": "ipython",
    "version": 3
   },
   "file_extension": ".py",
   "mimetype": "text/x-python",
   "name": "python",
   "nbconvert_exporter": "python",
   "pygments_lexer": "ipython3",
   "version": "3.7.0"
  }
 },
 "nbformat": 4,
 "nbformat_minor": 2
}
