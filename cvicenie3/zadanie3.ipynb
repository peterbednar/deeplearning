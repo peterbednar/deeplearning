{
 "cells": [
  {
   "cell_type": "markdown",
   "metadata": {},
   "source": [
    "### Zadanie 3\n",
    "\n",
    "1. Stiahnite si dátovú množinu [Sonar](https://archive.ics.uci.edu/ml/datasets/connectionist+bench+%28sonar,+mines+vs.+rocks%29).\n",
    "2. Načítajte dáta z CSV súboru `sonar.all-data` a vytvorte `numpy` polia pre trénovacie a testovacie dáta (70% trénovacích a 30% testovacích príkladov)\n",
    "3. Naučte a otestujte doprednú neurónovú sieť. Vyskúšajte rôzny počet skrytých vrstiev a rôzny počet neurónov v skrytých vrstvách. Váhy inicializujte podľa Glorot schémy.\n",
    "4. Vyskúšajte rôzne optimalizačné metódy (`SGD`, `Adagrad`, `RMSprop`, `Adam`).\n",
    "5. Vytvorte prehľadovú tabuľku s presnosťou na testovacích dátach pre otestované kombinácie parametrov a optimalizačných metód. Pre najlepšie nastavenie vykreslite priebeh chybovej funkcie počas učenia. \n",
    "\n",
    "### Poznámky\n",
    "\n",
    "* Ide o klasifikačnú úlohu do dvoch tried pre ktorú je vhodná výstupná logistická aktivačná funkcia `sigmoid` a chybová funkcia `binary_crossentropy`.\n",
    "* Dáta musia byť skonvertované na čísla. Cieľový atribút zakódujte ako 0/1."
   ]
  },
  {
   "cell_type": "code",
   "execution_count": null,
   "metadata": {},
   "outputs": [],
   "source": []
  }
 ],
 "metadata": {
  "kernelspec": {
   "display_name": "Python 3",
   "language": "python",
   "name": "python3"
  },
  "language_info": {
   "codemirror_mode": {
    "name": "ipython",
    "version": 3
   },
   "file_extension": ".py",
   "mimetype": "text/x-python",
   "name": "python",
   "nbconvert_exporter": "python",
   "pygments_lexer": "ipython3",
   "version": "3.7.3"
  }
 },
 "nbformat": 4,
 "nbformat_minor": 2
}
