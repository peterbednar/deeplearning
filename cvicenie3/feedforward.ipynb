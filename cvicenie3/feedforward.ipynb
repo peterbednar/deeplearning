{
 "cells": [
  {
   "cell_type": "markdown",
   "metadata": {},
   "source": [
    "## Knižnica keras\n",
    "\n",
    "Knižnica `keras` poskytuje jednotné rozhranie pre vytváranie modelov neurónových sietí rôznych architektúr. Pri vytváraní a učení modelu budeme zvyčajne postupovať podľa nasledujúcich krokov:\n",
    "\n",
    "1. Načítanie trénovacích a testovacích dát v podobe `numpy` polí.\n",
    "2. Vytvorenie modelu neurónovej siete.\n",
    "3. Voľba optimalizačnej metódy a príprava modelu na učenie (kompilácia).\n",
    "4. Učenie modelu na trénovacích dátach.\n",
    "5. Vyhodnotenie modelu na testovacích dátach.\n",
    "\n",
    "Viac informácií o knižnici `keras` nájdete [tu](https://keras.io) (v angličtine).\n",
    "\n",
    "### Načítanie dát\n",
    "\n",
    "`keras` poskytuje príklady dátových množín pre základné typy úloh. V nasledujúcom príklade načítame dátovú množinu  [Boston Housing](https://www.kaggle.com/c/boston-housing), ktorá popisuje predaj nehnuteľností na predmestiach Bostonu. Dátová množina obsahuje 13 vstupných atribútov, ktoré popisujú napr. mieru kriminality, dopravné spojenie a služby v danej časti mesta. Cieľový atribút je číselný a popisuje priemernú cenu nehnuteľnosti."
   ]
  },
  {
   "cell_type": "code",
   "execution_count": null,
   "metadata": {},
   "outputs": [],
   "source": [
    "from tensorflow.keras.datasets import boston_housing\n",
    "\n",
    "# načítame dáta z dátovej množiny do `numpy` polí, dáta sú priamo rozdelené na vstupné a výstupné atribúty\n",
    "# a trénovaciu a testovaciu množinu, aby bolo možné zreplikovať rovnaké rozdelenie dát, je potrebné nastaviť\n",
    "# inicializáciu náhodných čísel (`seed`)\n",
    "(x_train, y_train), (x_test, y_test) = boston_housing.load_data(seed=1234)"
   ]
  },
  {
   "cell_type": "markdown",
   "metadata": {},
   "source": [
    "Dáta majú tvar (počet trénovacích/testovacích príkladov x počet vstupných/výstupných atribútov)."
   ]
  },
  {
   "cell_type": "code",
   "execution_count": null,
   "metadata": {},
   "outputs": [],
   "source": [
    "print(x_train.shape, y_train.shape, x_test.shape, y_test.shape)"
   ]
  },
  {
   "cell_type": "markdown",
   "metadata": {},
   "source": [
    "### Vytvorenie modelu\n",
    "\n",
    "Základný model doprednej neurónovej siete je možné vytvoriť sekvenčným prepojením jednotlivých vrstiev. Sekvenčný model je reprezentovaný objektom `Sequential`, do ktorého je možné pridať jednotlivé vrstvy. Základný typ vrstvy vytvára úplné prepojenie s predchádzajúcou vrstvou. V nasledujúcom príklade vytvoríme model s jednou skrytou vrstvou s 10 neurónmi a jednou výstupnou vrstvou s jedným výstupom pre cieľový atribút."
   ]
  },
  {
   "cell_type": "code",
   "execution_count": null,
   "metadata": {},
   "outputs": [],
   "source": [
    "from tensorflow.keras.models import Sequential\n",
    "from tensorflow.keras.layers import Dense\n",
    "\n",
    "model = Sequential()\n",
    "# pre prvú vrstvu je potrebné zadať aj počet vstupov `input_dim`\n",
    "# ako aktivačnú funkciu na skrytej vrstve definujeme hyperbolický tangens `tanh`\n",
    "model.add(Dense(10, input_dim=13, activation='tanh'))\n",
    "# pre regresiu nastavíme lineárnu výstupnú aktivačnú funkciu\n",
    "# veľkosť priamo udáva počet výstupov (1)\n",
    "model.add(Dense(1, activation='linear'))"
   ]
  },
  {
   "cell_type": "markdown",
   "metadata": {},
   "source": [
    "Pomocou metódy `summary` je možné vypísať štruktúru modelu vrátane počtu parametrov."
   ]
  },
  {
   "cell_type": "code",
   "execution_count": null,
   "metadata": {},
   "outputs": [],
   "source": [
    "model.summary()"
   ]
  },
  {
   "cell_type": "markdown",
   "metadata": {},
   "source": [
    "### Inicializácia váh\n",
    "\n",
    "Váhy je možné inicializovať pomocou objektov z modulu `keras.initializers`. Pre základnú vrstvu doprednej siete je možné inicializovať samostatne váhy vstupov a váhy biasu."
   ]
  },
  {
   "cell_type": "code",
   "execution_count": null,
   "metadata": {},
   "outputs": [],
   "source": [
    "from tensorflow.keras import initializers\n",
    "\n",
    "# váhy pre vstupy inicializujeme podľa Glorot inicializácie (nastavíme inicializáciu náhodného generátora `seed`)\n",
    "# váhy pre bias (konštantný vstup s hodnotou 1) nastavíme na 0\n",
    "layer = Dense(10,\n",
    "              input_dim=13, kernel_initializer=initializers.glorot_normal(seed=1234),\n",
    "              bias_initializer=initializers.Zeros())\n",
    "\n",
    "# skrátene môžeme zadať aj reťazec s názvom inicializátora (v tomto prípade sa použijú prednastavené hodnoty\n",
    "# argumentov inicializátora)\n",
    "layer = Dense(10,\n",
    "              input_dim=13, kernel_initializer=\"glorot_normal\",\n",
    "              bias_initializer=\"zeros\")"
   ]
  },
  {
   "cell_type": "markdown",
   "metadata": {},
   "source": [
    "### Konfigurácia optimalizačnej metódy\n",
    "\n",
    "Knižnica `keras` definuje v module `keras.optimizers` rôzne typy optimalizačných metód. Typ `SGD` implementuje základnú metódu stochastického gradientového zostupu."
   ]
  },
  {
   "cell_type": "code",
   "execution_count": null,
   "metadata": {},
   "outputs": [],
   "source": [
    "from tensorflow.keras.optimizers import SGD\n",
    "\n",
    "sgd = SGD(0.01) # parameter určuje rýchlosť učenia\n",
    "# pred učením je potrebné model skompilovať pre danú optimalizačnú metódu\n",
    "# pri kompilácii je potrebné vybrať optimalizovanú chybovú funkciu (pre regresiu priemernú kvadratický chybu\n",
    "# `mean_squared_error`), voliteľne je možné zvoliť aj ďalšie metriky, ktoré sa vyhodnotia počas učenia na\n",
    "# trénovacích dátach (napr. priemernú absolútnu chybu `mean_absolute_error`)\n",
    "model.compile(loss='mean_squared_error', optimizer=sgd, metrics=['mean_absolute_error'])"
   ]
  },
  {
   "cell_type": "markdown",
   "metadata": {},
   "source": [
    "Po skompilovaní je možné model naučiť metódou `fit`. Ako argumenty je potrebné určiť počet epoch (argument `epochs`) a počet príkladov, ktoré sa zahrnú do výpočtu gradientu pri každom kroku `batch_size`."
   ]
  },
  {
   "cell_type": "code",
   "execution_count": null,
   "metadata": {},
   "outputs": [],
   "source": [
    "f = model.fit(x_train, y_train, epochs=25, batch_size=10)"
   ]
  },
  {
   "cell_type": "markdown",
   "metadata": {},
   "source": [
    "Priebeh učenia si môžeme vizualizovať pomocou knižnice `matplotlib`."
   ]
  },
  {
   "cell_type": "code",
   "execution_count": null,
   "metadata": {},
   "outputs": [],
   "source": [
    "%matplotlib inline\n",
    "import matplotlib.pyplot as plt\n",
    "\n",
    "plt.figure(1)\n",
    "plt.subplot(211)\n",
    "plt.plot(f.history['loss'])\n",
    "plt.subplot(212)\n",
    "p = plt.plot(f.history['mean_absolute_error'])"
   ]
  },
  {
   "cell_type": "markdown",
   "metadata": {},
   "source": [
    "### Testovanie modelu\n",
    "\n",
    "Model je možné otestovať na testovacej množine príkladov pomocou metódy `evaluate`. Výsledok je pole, ktoré obsahuje hodnotu chybovej funkcie a všetkých metrík definovaných pri kompilácii modelu vyhodnotených na testovacej množine."
   ]
  },
  {
   "cell_type": "code",
   "execution_count": null,
   "metadata": {},
   "outputs": [],
   "source": [
    "scores = model.evaluate(x_test, y_test)\n",
    "print('MSE: {:.4f}, MAE: {:.4f}'.format(scores[0], scores[1]))"
   ]
  },
  {
   "cell_type": "code",
   "execution_count": null,
   "metadata": {},
   "outputs": [],
   "source": []
  }
 ],
 "metadata": {
  "kernelspec": {
   "display_name": "Python 3",
   "language": "python",
   "name": "python3"
  },
  "language_info": {
   "codemirror_mode": {
    "name": "ipython",
    "version": 3
   },
   "file_extension": ".py",
   "mimetype": "text/x-python",
   "name": "python",
   "nbconvert_exporter": "python",
   "pygments_lexer": "ipython3",
   "version": "3.7.3"
  }
 },
 "nbformat": 4,
 "nbformat_minor": 2
}
