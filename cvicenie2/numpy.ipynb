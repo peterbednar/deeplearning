{
 "cells": [
  {
   "cell_type": "markdown",
   "metadata": {},
   "source": [
    "## Knižnica numpy\n",
    "\n",
    "Knižnica `numpy` umožňuje efektívne pracovať s mnohorozmernými dátovými poľami. Mhohorozmerné polia s číselnými hodnotami sa označujú ako tzv. _tenzory_ a sú zovšeobecnením číselných vektorov a matíc. Tenzory budeme používať ako základné dátové typy pre reprezentáciu dát pri učení neurónových sietí.\n",
    "\n",
    "### Vytvorenie a inicializácia\n",
    "\n",
    "`numpy` pole môžeme vytvoriť priamo zo zoznamu v jazyku Python. Na rozdiel od zoznamov musia byť všetky hodnoty `numpy` poľa rovnakého typu."
   ]
  },
  {
   "cell_type": "code",
   "execution_count": null,
   "metadata": {},
   "outputs": [],
   "source": [
    "import numpy as np\n",
    "\n",
    "a = np.array([1, 2, 3, 4, 5])\n",
    "a"
   ]
  },
  {
   "cell_type": "markdown",
   "metadata": {},
   "source": [
    "Takto môžete vytvoriť a inicializovať aj viacrozmerné polia."
   ]
  },
  {
   "cell_type": "code",
   "execution_count": null,
   "metadata": {},
   "outputs": [],
   "source": [
    "a = np.array([[1, 2, 3],[3, 4, 6]])"
   ]
  },
  {
   "cell_type": "markdown",
   "metadata": {},
   "source": [
    "Rozmer poľa môžete zistiť pomocou vlastnosti `shape`, ktorá obsahuje n-ticu čísel s rozmery jednotlivých dimenzií poľa."
   ]
  },
  {
   "cell_type": "code",
   "execution_count": null,
   "metadata": {},
   "outputs": [],
   "source": [
    "a.shape"
   ]
  },
  {
   "cell_type": "markdown",
   "metadata": {},
   "source": [
    "`numpy` poskytuje viacero metód na vytvorenie polí s preddefinovanou hodnotou."
   ]
  },
  {
   "cell_type": "code",
   "execution_count": null,
   "metadata": {},
   "outputs": [],
   "source": [
    "a = np.ones((3,4,2))          # pole s rozmerom 3x4x2, všetky prvky rovné 1\n",
    "b = np.zeros((3,4,2))         # pole s rozmerom 3x4x2, všetky prvky rovné 0 \n",
    "c = np.full((3,3,3), -np.inf) # pole s rozmerom 3x3x3, všetky prvky nastavené na danú hodnotu (napr. -nekonečno)"
   ]
  },
  {
   "cell_type": "code",
   "execution_count": null,
   "metadata": {},
   "outputs": [],
   "source": [
    "d = np.random.random((3,2))   # pole s rozmerom 3x2 (matica) s prvkami inicializovanými náhodne z intervalu [0, 1)\n",
    "e = np.empty((3, 2))          # neincializované pole daného rozmeru, môže obsahovať ľubovoľné čísla\n",
    "f = np.empty_like(e)          # vytvorí neinicializované pole s rovnakým rozmerom a typom, aké má zadané pole"
   ]
  },
  {
   "cell_type": "code",
   "execution_count": null,
   "metadata": {},
   "outputs": [],
   "source": [
    "g = np.arange(1, 10)          # vytvorí vektor inicializovaný na postupnosť čísel od 1 (vrátane) do 10 (bez)\n",
    "                              # podobne ako pre funkciu `range` je možné zadať aj krok postupnosti"
   ]
  },
  {
   "cell_type": "markdown",
   "metadata": {},
   "source": [
    "### Indexovanie\n",
    "\n",
    "`numpy` polia je možné indexovať podobne ako zoznamy cez hranaté zátvorky (na rozdiel od zoznam sa však indexujú cez jednu zátvorku do, ktorej sa zadajú indexy pre jednotlivé dimenzie)."
   ]
  },
  {
   "cell_type": "code",
   "execution_count": null,
   "metadata": {},
   "outputs": [],
   "source": [
    "a = np.array(([[1, 2, 3, 4],[5, 6, 7, 8], [9, 10, 11, 12]]))\n",
    "a[0,2]"
   ]
  },
  {
   "cell_type": "markdown",
   "metadata": {},
   "source": [
    "Pre indexovanie môžete pre každú dimenziu zadať aj rozsah indexov v tvare `od` (vrátane) : `do` (bez)."
   ]
  },
  {
   "cell_type": "code",
   "execution_count": null,
   "metadata": {},
   "outputs": [],
   "source": [
    "a[:2, 1:3] # vyberie z matice `a` prvé dva riadky a stĺpce s indexami 1 a 2 "
   ]
  },
  {
   "cell_type": "markdown",
   "metadata": {},
   "source": [
    "Indexy pre každú dimenziu môžeme zadať aj ako zoznamy."
   ]
  },
  {
   "cell_type": "code",
   "execution_count": null,
   "metadata": {},
   "outputs": [],
   "source": [
    "a[[0,1,2],[0,1,0]] # stĺpec 0 sa bude opakovať 2x"
   ]
  },
  {
   "cell_type": "markdown",
   "metadata": {},
   "source": [
    "Z `numpy` poľa môžeme jednoducho vybrať všetky hodnoty, ktoré spĺňajú zadanú podmienku. Najprv si vygenerujeme pole s Boolovskými hodnotami `True` ak je podmienka pre daný prvok splnená (inak `False`). "
   ]
  },
  {
   "cell_type": "code",
   "execution_count": null,
   "metadata": {},
   "outputs": [],
   "source": [
    "mask = a < 8\n",
    "mask"
   ]
  },
  {
   "cell_type": "markdown",
   "metadata": {},
   "source": [
    "Pomocou indexovanie podľa Boolovského poľa vyberieme iba prvky spĺňajúce danú podmienku, výsledok je vždy vektor hodnôt."
   ]
  },
  {
   "cell_type": "code",
   "execution_count": null,
   "metadata": {},
   "outputs": [],
   "source": [
    "a[mask]"
   ]
  },
  {
   "cell_type": "markdown",
   "metadata": {},
   "source": [
    "### Dátové typy\n",
    "\n",
    "`numpy` podporuje rozličné dátové typy. Pri numerických typoch sa rozlišujú celé resp. desatinné čísla (typ `np.int` resp. `np.float`), znamienko a veľkosť/presnosť hodnôt (napr. celé kladné číslo od 0 do 255 reprezentované 8 bitmi má typ `np.uint8`). Okrem numerických typoch je podporovaný aj Boolovský typ a všeobecný typ `np.object`."
   ]
  },
  {
   "cell_type": "code",
   "execution_count": null,
   "metadata": {},
   "outputs": [],
   "source": [
    "a = np.array([1, 2, 3, 4], dtype=np.float)"
   ]
  },
  {
   "cell_type": "code",
   "execution_count": null,
   "metadata": {},
   "outputs": [],
   "source": [
    "mask.dtype # typ poľa môžete zistiť pomocou vlastnosti `dtype`"
   ]
  },
  {
   "cell_type": "markdown",
   "metadata": {},
   "source": [
    "### Základné operácie\n",
    "\n",
    "`numpy` priamo podporuje základné matematické operácie vyhodnotené na jednotlivých prvkoch."
   ]
  },
  {
   "cell_type": "code",
   "execution_count": null,
   "metadata": {},
   "outputs": [],
   "source": [
    "x = np.array([[1, 2], [3, 4]], dtype=np.float)\n",
    "y = np.array([[5, 6], [7, 8]], dtype=np.float)\n",
    "\n",
    "z = x - y\n",
    "z = x + y\n",
    "z = x * y\n",
    "z = x / y\n",
    "z = np.sqrt(x) # na prvky polí je možné aplikovať aj rôzne funkcie (`sin`, `cos`, `sqrt`, `floor` atď.)"
   ]
  },
  {
   "cell_type": "markdown",
   "metadata": {},
   "source": [
    "Operátor `*` predstavuje násobenie po prvkoch, ak chcete vynásobiť dve matice, resp. vektor a maticu, použite metódu `dot`."
   ]
  },
  {
   "cell_type": "code",
   "execution_count": null,
   "metadata": {},
   "outputs": [],
   "source": [
    "y = np.array([[5, 6, 7], [8, 9, 10]], dtype=np.float)\n",
    "x.dot(y)  # vynásobíme maticu `x` o rozmeroch 2x2 s maticou `y` o rozmeroch 2x3, výsledok je matica o rozmeroch 2x3"
   ]
  },
  {
   "cell_type": "code",
   "execution_count": null,
   "metadata": {},
   "outputs": [],
   "source": [
    "v = np.arange(3) # vygenerujeme si vektor s 3 prvkami (0, 1, 2)\n",
    "y.dot(v)         # násobíme maticu `y` (2x3) s vektorom `v` (3x1), výsledok je vektor (2x1)"
   ]
  },
  {
   "cell_type": "code",
   "execution_count": null,
   "metadata": {},
   "outputs": [],
   "source": [
    "v.dot(y.T)      # násobenie matíc vo všeobecnosti nie je symetrické, preto musíme v opačnom poradí maticu `y`\n",
    "                # transponovať na rozmer 3x2"
   ]
  },
  {
   "cell_type": "markdown",
   "metadata": {},
   "source": [
    "Na polia môžu byť aplikované viaceré funkcie ktoré pracujú s viacerými prvkami, napr. `min`, `max`, `mean`, atď."
   ]
  },
  {
   "cell_type": "code",
   "execution_count": null,
   "metadata": {},
   "outputs": [],
   "source": [
    "x.mean() # priemerná hodnota (cez všetky prvky)\n",
    "x.max()  # maximum\n",
    "x.min()  # minimum"
   ]
  },
  {
   "cell_type": "markdown",
   "metadata": {},
   "source": [
    "### Rozšírenie operácií nad poľami rôznych rozmerov\n",
    "\n",
    "`numpy` umožňuje aplikovať väčšinu operácií aj v prípade, že sa rozmery polí úplne nezhodujú, pričom sa snaží dymenzie vhodne rozšíriť (tzv. _broadcasting_). Pre rozšírení musia byť rozmery kompatibilné, tzn. najprv sa pole s menším počtom dimenzií rozšíri na rovnaký počet ako pole s väčším počtom doplnením dimenzií s rozmerom 1 a potom sa všetky dimenzie porovnajú, pričom musí platiť:\n",
    "\n",
    "1. rozmery oboch dimenzií sú rovnaké, alebo\n",
    "2. rozmer jednej z nich je 1\n",
    "\n",
    "Napr. pole s rozmermi 3x3x4x5 je kompatibilné s poľom 4x5, alebo 3x1x5, ale nie je kompatibilné s poľom 4x4, alebo napr. 2x1x1."
   ]
  },
  {
   "cell_type": "code",
   "execution_count": null,
   "metadata": {},
   "outputs": [],
   "source": [
    "x = np.array([[1, 2, 3], [4, 5, 6], [7, 8, 9], [10, 11, 12]]) # `x` je matica o rozmeroch 4x3\n",
    "v = np.array([1, 0, 1]) # `v` je vektor s rozmerom 3\n",
    "\n",
    "# po rozšírení bude mať vektor `v` rozmer 1x3, ktorý je kompatibilný s rozmerom matice 4x3\n",
    "# matica `x` je preto chápaná ako zoznam 4 vektorov (riadkov), ku ktorým sa pripočíta postupne vektor `v`\n",
    "# výsledok bude matica o rozmeroch 4x3\n",
    "\n",
    "y = x + v\n",
    "y"
   ]
  },
  {
   "cell_type": "markdown",
   "metadata": {},
   "source": [
    "### Spájanie a rozdeľovanie polí\n",
    "\n",
    "Viacero polí môžeme spojiť podľa novej, alebo existujúcej dimezii pomocou funkcie `stack` a `concatenate`."
   ]
  },
  {
   "cell_type": "code",
   "execution_count": null,
   "metadata": {},
   "outputs": [],
   "source": [
    "x1 = np.array([1, 2, 3])\n",
    "x2 = np.array([4, 5, 6])\n",
    "x3 = np.array([7, 8, 9])\n",
    "\n",
    "x = np.stack([x1, x2, x3, x2])   # `stack` vytvorí novú dimenziu \n",
    "print(x.shape)\n",
    "\n",
    "x = np.concatenate([x1, x2, x3]) # `concatenate` spojí poľia podľa existujúcej dimenzii\n",
    "print(x.shape)                   # (prednastavená je prvá dimenzia s indexom 0)"
   ]
  },
  {
   "cell_type": "markdown",
   "metadata": {},
   "source": [
    "Pre rozdelenie polí podľa náhodného výberu napr. na trénovacie a testovacie dáta je vhodné použiť funkcie z knižnice `scikit-learn`."
   ]
  },
  {
   "cell_type": "code",
   "execution_count": null,
   "metadata": {},
   "outputs": [],
   "source": [
    "from sklearn.model_selection import train_test_split\n",
    "\n",
    "x = np.random.random((10,4))  # matica `x` predstavuje vstupné atribúty (3 atribúty, 10 príkladov)\n",
    "y = np.arange(10)             # vektor `y` predstavuje výstupný (cieľový) atribút\n",
    "\n",
    "# rozdelíme dáta na trénovacie (%70 z celkového počtu) a testovacie náhodným výberom\n",
    "# pre replikovateľnosť nastavíme inicializáciu náhodných čísel `random_state`\n",
    "x_train, x_test, y_train, y_test = train_test_split(x, y, train_size=0.7, random_state=1234)"
   ]
  },
  {
   "cell_type": "code",
   "execution_count": null,
   "metadata": {},
   "outputs": [],
   "source": [
    "print(y_train, y_test)"
   ]
  },
  {
   "cell_type": "markdown",
   "metadata": {},
   "source": [
    "### Vizualizácia hodnôt\n",
    "\n",
    "Dáta môžete vizualizovať pomocou knižníc `matplotlib` a `seaborn`."
   ]
  },
  {
   "cell_type": "code",
   "execution_count": null,
   "metadata": {},
   "outputs": [],
   "source": [
    "import matplotlib.pyplot as plt"
   ]
  },
  {
   "cell_type": "markdown",
   "metadata": {},
   "source": [
    "Pre základné X-Y zobrazenie môžete použiť funkciu `plot`."
   ]
  },
  {
   "cell_type": "code",
   "execution_count": null,
   "metadata": {},
   "outputs": [],
   "source": [
    "x = np.arange(0, 3 * np.pi, 0.1)  # vygenerujeme si hodnoty pre os X - postupnosť od 0 do 3*Pi s krokom 0.1\n",
    "y = np.sin(x)                     # pre os Y vypočítame sínus X\n",
    "\n",
    "plt.plot(x, y)                    # vytvoríme a zobrazíme graf\n",
    "plt.show()"
   ]
  },
  {
   "cell_type": "markdown",
   "metadata": {},
   "source": [
    "V jednom grafe môžete kombinovať viacero dát, resp. meniť jeho nastavenia a popis."
   ]
  },
  {
   "cell_type": "code",
   "execution_count": null,
   "metadata": {},
   "outputs": [],
   "source": [
    "z = np.cos(x)\n",
    "\n",
    "plt.plot(x, y)                   # vytvoríme priebeh pre sínus \n",
    "plt.plot(x, z)                   # do toho istého grafu zobrazíme kosínus\n",
    "plt.xlabel('x axis label')       # zmeníme popis osí, nadpis grafu a legendu\n",
    "plt.ylabel('y axis label')\n",
    "plt.title('Sine and Cosine')\n",
    "plt.legend(['Sine', 'Cosine'])\n",
    "plt.show()                       # zobrazíme vygenerovaný graf"
   ]
  },
  {
   "cell_type": "markdown",
   "metadata": {},
   "source": [
    "Viac informácií o knižinici `matplotlib` nájdete [tu](https://matplotlib.org) (v angličtine)."
   ]
  },
  {
   "cell_type": "code",
   "execution_count": null,
   "metadata": {},
   "outputs": [],
   "source": []
  }
 ],
 "metadata": {
  "kernelspec": {
   "display_name": "Python 3",
   "language": "python",
   "name": "python3"
  },
  "language_info": {
   "codemirror_mode": {
    "name": "ipython",
    "version": 3
   },
   "file_extension": ".py",
   "mimetype": "text/x-python",
   "name": "python",
   "nbconvert_exporter": "python",
   "pygments_lexer": "ipython3",
   "version": "3.7.0"
  }
 },
 "nbformat": 4,
 "nbformat_minor": 2
}
