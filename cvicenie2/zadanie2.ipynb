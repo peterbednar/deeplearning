{
 "cells": [
  {
   "cell_type": "markdown",
   "metadata": {},
   "source": [
    "### Zadanie 2\n",
    "\n",
    "Máte na vstupe nasledujúce dáta, ktoré reprezentujú celočíselné sekvencie:\n",
    "```\n",
    "sequences = [[1, 2, 3, 1, 4, 5], [7, 8, 9, 2, 1, 4, 5], [7, 8, 9, 2, 1, 4]]\n",
    "```\n",
    "\n",
    "1. Vytvorte maticu `embeddings`, ktorá bude mať rozmer 10x5 inicializovanú náhodne s hodnotami v rozsahu \\[0,1)\n",
    "2. Pre každý zoznam `s` zo zoznamu `sequences` vytvorte maticu `v` s rozmerom `dĺžka s` x 5, pre ktorú platí `v[i] = embeddings[s[i]]` (tzn. riadok matice `v` je nastavený na riadok matice `embeddings` podľa indexu, ktorý je prvkom na danej pozícii v zozname `s`)\n",
    "3. Rozšírte matice `v` tak aby každá mala rovnaký rozmer podľa maximálnej dĺžky zoznamu doplnením 0 hodnôt a spojte ich do výslednej matice `data` o rozmeroch `počet sekvencií` x `max. dĺžka sekvencie` x 5"
   ]
  },
  {
   "cell_type": "code",
   "execution_count": null,
   "metadata": {},
   "outputs": [],
   "source": []
  }
 ],
 "metadata": {
  "kernelspec": {
   "display_name": "Python 3",
   "language": "python",
   "name": "python3"
  },
  "language_info": {
   "codemirror_mode": {
    "name": "ipython",
    "version": 3
   },
   "file_extension": ".py",
   "mimetype": "text/x-python",
   "name": "python",
   "nbconvert_exporter": "python",
   "pygments_lexer": "ipython3",
   "version": "3.7.0"
  }
 },
 "nbformat": 4,
 "nbformat_minor": 2
}
